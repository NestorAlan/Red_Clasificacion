{
 "cells": [
  {
   "cell_type": "code",
   "execution_count": 2,
   "metadata": {},
   "outputs": [],
   "source": [
    "import mnist_loader\n",
    "import network\n",
    "\n",
    "training_data, validation_data , test_data = mnist_loader.load_data_wrapper()\n",
    "\n",
    "training_data = list(training_data)\n",
    "test_data = list(test_data)"
   ]
  },
  {
   "cell_type": "code",
   "execution_count": 5,
   "metadata": {},
   "outputs": [
    {
     "name": "stdout",
     "output_type": "stream",
     "text": [
      "Epoch 0 : 7453 / 10000\n",
      "Epoch 1 : 8593 / 10000\n",
      "Epoch 2 : 8800 / 10000\n",
      "Epoch 3 : 8929 / 10000\n",
      "Epoch 4 : 8995 / 10000\n",
      "Epoch 5 : 9065 / 10000\n",
      "Epoch 6 : 9109 / 10000\n",
      "Epoch 7 : 9131 / 10000\n",
      "Epoch 8 : 9163 / 10000\n",
      "Epoch 9 : 9181 / 10000\n",
      "Epoch 10 : 9203 / 10000\n",
      "Epoch 11 : 9204 / 10000\n",
      "Epoch 12 : 9231 / 10000\n",
      "Epoch 13 : 9249 / 10000\n",
      "Epoch 14 : 9251 / 10000\n",
      "Epoch 15 : 9263 / 10000\n",
      "Epoch 16 : 9282 / 10000\n",
      "Epoch 17 : 9285 / 10000\n",
      "Epoch 18 : 9285 / 10000\n",
      "Epoch 19 : 9297 / 10000\n",
      "Epoch 20 : 9306 / 10000\n",
      "Epoch 21 : 9312 / 10000\n",
      "Epoch 22 : 9328 / 10000\n",
      "Epoch 23 : 9323 / 10000\n",
      "Epoch 24 : 9345 / 10000\n",
      "Epoch 25 : 9349 / 10000\n",
      "Epoch 26 : 9355 / 10000\n",
      "Epoch 27 : 9359 / 10000\n",
      "Epoch 28 : 9356 / 10000\n",
      "Epoch 29 : 9355 / 10000\n"
     ]
    }
   ],
   "source": [
    "net=network.Network([784,30,10])\n",
    "net.SGD( training_data, 30, 10, 0.03, 0.87, test_data=test_data)"
   ]
  }
 ],
 "metadata": {
  "kernelspec": {
   "display_name": "Python 3.9.12 ('base')",
   "language": "python",
   "name": "python3"
  },
  "language_info": {
   "codemirror_mode": {
    "name": "ipython",
    "version": 3
   },
   "file_extension": ".py",
   "mimetype": "text/x-python",
   "name": "python",
   "nbconvert_exporter": "python",
   "pygments_lexer": "ipython3",
   "version": "3.9.12"
  },
  "orig_nbformat": 4,
  "vscode": {
   "interpreter": {
    "hash": "8672b69f9b219a915549b12ed51502bcb6d7b061063aa9bc366faa19af89e5da"
   }
  }
 },
 "nbformat": 4,
 "nbformat_minor": 2
}

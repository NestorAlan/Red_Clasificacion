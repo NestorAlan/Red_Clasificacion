{
 "cells": [
  {
   "cell_type": "code",
   "execution_count": 6,
   "metadata": {},
   "outputs": [],
   "source": [
    "import mnist_loader\n",
    "import network\n",
    "\n",
    "training_data, validation_data , test_data = mnist_loader.load_data_wrapper()\n",
    "\n",
    "training_data = list(training_data)\n",
    "test_data = list(test_data)"
   ]
  },
  {
   "cell_type": "code",
   "execution_count": 9,
   "metadata": {},
   "outputs": [
    {
     "name": "stdout",
     "output_type": "stream",
     "text": [
      "Epoch 0 : 9132 / 10000\n",
      "Epoch 1 : 9238 / 10000\n",
      "Epoch 2 : 9329 / 10000\n",
      "Epoch 3 : 9313 / 10000\n",
      "Epoch 4 : 9409 / 10000\n",
      "Epoch 5 : 9425 / 10000\n",
      "Epoch 6 : 9435 / 10000\n",
      "Epoch 7 : 9456 / 10000\n",
      "Epoch 8 : 9462 / 10000\n",
      "Epoch 9 : 9465 / 10000\n",
      "Epoch 10 : 9487 / 10000\n",
      "Epoch 11 : 9483 / 10000\n",
      "Epoch 12 : 9484 / 10000\n",
      "Epoch 13 : 9463 / 10000\n",
      "Epoch 14 : 9449 / 10000\n",
      "Epoch 15 : 9509 / 10000\n",
      "Epoch 16 : 9488 / 10000\n",
      "Epoch 17 : 9493 / 10000\n",
      "Epoch 18 : 9517 / 10000\n",
      "Epoch 19 : 9501 / 10000\n",
      "Epoch 20 : 9523 / 10000\n",
      "Epoch 21 : 9515 / 10000\n",
      "Epoch 22 : 9511 / 10000\n",
      "Epoch 23 : 9502 / 10000\n",
      "Epoch 24 : 9511 / 10000\n",
      "Epoch 25 : 9513 / 10000\n",
      "Epoch 26 : 9501 / 10000\n",
      "Epoch 27 : 9505 / 10000\n",
      "Epoch 28 : 9517 / 10000\n",
      "Epoch 29 : 9525 / 10000\n"
     ]
    }
   ],
   "source": [
    "net=network.Network([784,30,10])\n",
    "net.SGD( training_data, 30, 10, 0.3, 0.87, test_data=test_data)"
   ]
  }
 ],
 "metadata": {
  "kernelspec": {
   "display_name": "Python 3.9.12 ('base')",
   "language": "python",
   "name": "python3"
  },
  "language_info": {
   "codemirror_mode": {
    "name": "ipython",
    "version": 3
   },
   "file_extension": ".py",
   "mimetype": "text/x-python",
   "name": "python",
   "nbconvert_exporter": "python",
   "pygments_lexer": "ipython3",
   "version": "3.9.12"
  },
  "orig_nbformat": 4,
  "vscode": {
   "interpreter": {
    "hash": "8672b69f9b219a915549b12ed51502bcb6d7b061063aa9bc366faa19af89e5da"
   }
  }
 },
 "nbformat": 4,
 "nbformat_minor": 2
}

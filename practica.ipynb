{
 "cells": [
  {
   "cell_type": "code",
   "execution_count": 1,
   "metadata": {},
   "outputs": [],
   "source": [
    "import mnist_loader\n",
    "import network\n",
    "\n",
    "training_data, validation_data , test_data = mnist_loader.load_data_wrapper()\n",
    "\n",
    "training_data = list(training_data)\n",
    "test_data = list(test_data)"
   ]
  },
  {
   "cell_type": "code",
   "execution_count": 2,
   "metadata": {},
   "outputs": [
    {
     "name": "stdout",
     "output_type": "stream",
     "text": [
      "Epoch 0 : 8144 / 10000\n",
      "Epoch 1 : 8350 / 10000\n",
      "Epoch 2 : 8676 / 10000\n",
      "Epoch 3 : 9209 / 10000\n",
      "Epoch 4 : 9296 / 10000\n",
      "Epoch 5 : 9359 / 10000\n",
      "Epoch 6 : 9351 / 10000\n",
      "Epoch 7 : 9366 / 10000\n",
      "Epoch 8 : 9393 / 10000\n",
      "Epoch 9 : 9419 / 10000\n",
      "Epoch 10 : 9396 / 10000\n",
      "Epoch 11 : 9416 / 10000\n",
      "Epoch 12 : 9419 / 10000\n",
      "Epoch 13 : 9481 / 10000\n",
      "Epoch 14 : 9455 / 10000\n",
      "Epoch 15 : 9474 / 10000\n",
      "Epoch 16 : 9477 / 10000\n",
      "Epoch 17 : 9470 / 10000\n",
      "Epoch 18 : 9439 / 10000\n",
      "Epoch 19 : 9478 / 10000\n",
      "Epoch 20 : 9483 / 10000\n",
      "Epoch 21 : 9454 / 10000\n",
      "Epoch 22 : 9489 / 10000\n",
      "Epoch 23 : 9480 / 10000\n",
      "Epoch 24 : 9472 / 10000\n",
      "Epoch 25 : 9492 / 10000\n",
      "Epoch 26 : 9492 / 10000\n",
      "Epoch 27 : 9490 / 10000\n",
      "Epoch 28 : 9498 / 10000\n",
      "Epoch 29 : 9500 / 10000\n"
     ]
    }
   ],
   "source": [
    "net=network.Network([784,30,10])\n",
    "net.SGD( training_data, 30, 10, 3.0, test_data=test_data)"
   ]
  }
 ],
 "metadata": {
  "kernelspec": {
   "display_name": "Python 3.9.12 ('base')",
   "language": "python",
   "name": "python3"
  },
  "language_info": {
   "codemirror_mode": {
    "name": "ipython",
    "version": 3
   },
   "file_extension": ".py",
   "mimetype": "text/x-python",
   "name": "python",
   "nbconvert_exporter": "python",
   "pygments_lexer": "ipython3",
   "version": "3.9.12"
  },
  "orig_nbformat": 4,
  "vscode": {
   "interpreter": {
    "hash": "8672b69f9b219a915549b12ed51502bcb6d7b061063aa9bc366faa19af89e5da"
   }
  }
 },
 "nbformat": 4,
 "nbformat_minor": 2
}
